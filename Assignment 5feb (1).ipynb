{
 "cells": [
  {
   "cell_type": "code",
   "execution_count": null,
   "id": "f04c52dd-38ce-48e9-8876-784182ce8a2e",
   "metadata": {},
   "outputs": [],
   "source": [
    "Ans.1 class is just a clasification of real world entity,\n",
    "/ blue print of real world entity but not specific to real world entity.\n",
    "\n",
    "Object is real world entity with respect to object oriented programming."
   ]
  },
  {
   "cell_type": "code",
   "execution_count": 14,
   "id": "d3087f97-77ff-4a6d-b30e-76c233b2c57f",
   "metadata": {},
   "outputs": [],
   "source": [
    "class oops_assignment:\n",
    "    def compelete_it(self):\n",
    "        print(\"compelete assignment\")"
   ]
  },
  {
   "cell_type": "code",
   "execution_count": 15,
   "id": "98eaadad-acbe-4a48-a8ab-bf539d6bd7a6",
   "metadata": {},
   "outputs": [],
   "source": [
    "#examole -\n",
    "Assignment = oops_assignment()"
   ]
  },
  {
   "cell_type": "code",
   "execution_count": 18,
   "id": "bf29679f-3a84-4852-afe8-ea3cc2a45b3a",
   "metadata": {},
   "outputs": [
    {
     "name": "stdout",
     "output_type": "stream",
     "text": [
      "<class '__main__.oops_assignment'>\n"
     ]
    }
   ],
   "source": [
    "print(type(Assignment))"
   ]
  },
  {
   "cell_type": "code",
   "execution_count": 19,
   "id": "39de12e0-7904-4f2d-b7b7-6b7bc3958851",
   "metadata": {},
   "outputs": [
    {
     "name": "stdout",
     "output_type": "stream",
     "text": [
      "compelete assignment\n"
     ]
    }
   ],
   "source": [
    "Assignment.compelete_it()"
   ]
  },
  {
   "cell_type": "code",
   "execution_count": null,
   "id": "8f54a704-9c80-41a8-91ef-27075ffe67d4",
   "metadata": {},
   "outputs": [],
   "source": [
    "Here class of Assignment  is opps_assignment. & Assignment is Object. "
   ]
  },
  {
   "cell_type": "code",
   "execution_count": null,
   "id": "411b45ae-df64-4630-a3e3-232dfc70bd2d",
   "metadata": {},
   "outputs": [],
   "source": [
    "Ans . 2 -These four pillars of OOPS - Inheritance, Polymorphism, Encapsulation and Abstraction."
   ]
  },
  {
   "cell_type": "code",
   "execution_count": null,
   "id": "97cc258e-b383-4cd8-bbe1-71646a88587c",
   "metadata": {},
   "outputs": [],
   "source": [
    "Ans.3 - __init__ is constructor in any class , it help the class to initilize the objects attribute ."
   ]
  },
  {
   "cell_type": "code",
   "execution_count": 20,
   "id": "4492a3ba-b5c6-4416-aa7c-adce34dc6a38",
   "metadata": {},
   "outputs": [],
   "source": [
    "class pwskills1 :\n",
    "    \n",
    "    def __init__(self , rollno , contact_no  , email):\n",
    "        self.rollno = rollno\n",
    "        self.contact_no = contact_no\n",
    "        self.email = email\n",
    "     \n",
    "    def return_students_deetials(self):\n",
    "        return self.rollno,self.contact_no,self.email\n",
    "    #here init help the class to initialize the object roll no,emai,contact_no of shishir"
   ]
  },
  {
   "cell_type": "code",
   "execution_count": 26,
   "id": "583851a2-689c-4c75-92f5-533e6b389eaa",
   "metadata": {},
   "outputs": [],
   "source": [
    "shishir = pwskills1(22 , 123456789 , \"smishra73@gmail.com\")"
   ]
  },
  {
   "cell_type": "code",
   "execution_count": 28,
   "id": "f3541ad8-b64c-4168-a649-16a5c288748c",
   "metadata": {},
   "outputs": [
    {
     "data": {
      "text/plain": [
       "(22, 123456789, 'smishra73@gmail.com')"
      ]
     },
     "execution_count": 28,
     "metadata": {},
     "output_type": "execute_result"
    }
   ],
   "source": [
    "shishir.return_students_deetials()"
   ]
  },
  {
   "cell_type": "code",
   "execution_count": null,
   "id": "4f2a63e5-3eee-4dfd-bb31-18cd658babfa",
   "metadata": {},
   "outputs": [],
   "source": [
    "Ans.4 -Self is is used as first argument who behave as a pointer in class. "
   ]
  },
  {
   "cell_type": "code",
   "execution_count": null,
   "id": "4c7bfe02-52f9-4cc7-95d3-27e8b25b4d6b",
   "metadata": {},
   "outputs": [],
   "source": [
    "Ans . 5 - What is inheritance in python with example-\n",
    "Inheritance relationship defines the classes that inherit from other classes as derived, subclass, or sub-type classes. \n",
    "Base class remains to be the source from which a subclass inherits. \n",
    "For example, you have a Base class of “bird,” and a “pigeon” is a Derived class. The inheritance will be pigeon is a bird,."
   ]
  }
 ],
 "metadata": {
  "kernelspec": {
   "display_name": "Python 3 (ipykernel)",
   "language": "python",
   "name": "python3"
  },
  "language_info": {
   "codemirror_mode": {
    "name": "ipython",
    "version": 3
   },
   "file_extension": ".py",
   "mimetype": "text/x-python",
   "name": "python",
   "nbconvert_exporter": "python",
   "pygments_lexer": "ipython3",
   "version": "3.10.8"
  }
 },
 "nbformat": 4,
 "nbformat_minor": 5
}
