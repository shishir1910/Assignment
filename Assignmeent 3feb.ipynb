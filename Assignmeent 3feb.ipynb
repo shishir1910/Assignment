{
 "cells": [
  {
   "cell_type": "code",
   "execution_count": null,
   "id": "7117bc4d-728a-4424-a506-c9a0be65836b",
   "metadata": {},
   "outputs": [],
   "source": [
    "Ans.-1 Def keyword use to creat a function."
   ]
  },
  {
   "cell_type": "code",
   "execution_count": 32,
   "id": "9e0b5318-e537-4fe4-80ab-cd99b0ebe2a0",
   "metadata": {},
   "outputs": [],
   "source": [
    "l = range(1,26)"
   ]
  },
  {
   "cell_type": "code",
   "execution_count": 68,
   "id": "ff0e3570-c7aa-4fff-8181-56b00c7e453a",
   "metadata": {},
   "outputs": [],
   "source": [
    "def test1():\n",
    "    l2 = []\n",
    "    for i in l:\n",
    "        if i % 2 != 0:\n",
    "            l2.append(i)\n",
    "    \n",
    "    return l2       \n",
    "                "
   ]
  },
  {
   "cell_type": "code",
   "execution_count": 69,
   "id": "edaf2784-af03-406c-99b5-3a700ee1ed54",
   "metadata": {},
   "outputs": [
    {
     "data": {
      "text/plain": [
       "[1, 3, 5, 7, 9, 11, 13, 15, 17, 19, 21, 23, 25]"
      ]
     },
     "execution_count": 69,
     "metadata": {},
     "output_type": "execute_result"
    }
   ],
   "source": [
    "test1()"
   ]
  },
  {
   "cell_type": "code",
   "execution_count": null,
   "id": "90aa1698-5bae-48a2-b9c6-8331159db847",
   "metadata": {},
   "outputs": [],
   "source": [
    "Ans.2 - *args -is use to pass n no of arguments in function.\n",
    "        **kwargs - is use to get data in dictonary form ."
   ]
  },
  {
   "cell_type": "code",
   "execution_count": 76,
   "id": "f641f444-c3f0-4a51-974a-6d3a49a32b51",
   "metadata": {},
   "outputs": [],
   "source": [
    "def test2(*args):\n",
    "    return args    "
   ]
  },
  {
   "cell_type": "code",
   "execution_count": 78,
   "id": "4fef39ec-453b-4f0a-9f33-99638725061b",
   "metadata": {},
   "outputs": [
    {
     "data": {
      "text/plain": [
       "(1, 2, 3, 4, 5)"
      ]
     },
     "execution_count": 78,
     "metadata": {},
     "output_type": "execute_result"
    }
   ],
   "source": [
    "test2(1,2,3,4,5)"
   ]
  },
  {
   "cell_type": "code",
   "execution_count": 2,
   "id": "21977404-5e30-453b-b440-14eddcd5eacb",
   "metadata": {},
   "outputs": [],
   "source": [
    "def test3(**kwargs):\n",
    "    return kwargs"
   ]
  },
  {
   "cell_type": "code",
   "execution_count": 10,
   "id": "38343529-9cd4-4dbb-9d71-7c0659f7eab6",
   "metadata": {},
   "outputs": [
    {
     "data": {
      "text/plain": [
       "{'a': 'shishir'}"
      ]
     },
     "execution_count": 10,
     "metadata": {},
     "output_type": "execute_result"
    }
   ],
   "source": [
    "test3(a=\"shishir\")"
   ]
  },
  {
   "cell_type": "code",
   "execution_count": null,
   "id": "ac860ea7-92ef-412f-a0f5-cb64515593b7",
   "metadata": {},
   "outputs": [],
   "source": [
    "Ans.3-An iterator is an object that contains a countable number of values.\n",
    "iter() is use for intialize iterator, next() is use for iteration."
   ]
  },
  {
   "cell_type": "code",
   "execution_count": 23,
   "id": "7b50eb7f-f041-430f-a38a-42509149c042",
   "metadata": {},
   "outputs": [],
   "source": [
    "l = [2,4,6,8,10,12,14,16,18,20]"
   ]
  },
  {
   "cell_type": "code",
   "execution_count": 25,
   "id": "e5f2bc86-c1bf-4c9e-901b-2fcb113b2a90",
   "metadata": {},
   "outputs": [],
   "source": [
    "l2 = iter(l)"
   ]
  },
  {
   "cell_type": "code",
   "execution_count": 26,
   "id": "79b0d0e1-5e22-428b-a395-4e92588b463d",
   "metadata": {},
   "outputs": [
    {
     "name": "stdout",
     "output_type": "stream",
     "text": [
      "2\n",
      "4\n",
      "6\n",
      "8\n",
      "10\n"
     ]
    }
   ],
   "source": [
    "for i in range(5):\n",
    "    print(next(l2))"
   ]
  },
  {
   "cell_type": "code",
   "execution_count": null,
   "id": "b83597be-06e1-4c9c-acb4-84c6ce877569",
   "metadata": {},
   "outputs": [],
   "source": [
    "Ans.- 4 Genertor function in python is used to give outcome one by one instead of give all outcome in one time,\n",
    "withot savind data in memory ..\n",
    "Yield is special keyword which help to creat generator function."
   ]
  },
  {
   "cell_type": "code",
   "execution_count": 10,
   "id": "fa5d3119-ffdc-40cf-a838-2653d549f9fc",
   "metadata": {},
   "outputs": [],
   "source": [
    "#Ans. 5 - generator function for prime number lessthan 1000\n",
    "w = range(1,1000)"
   ]
  },
  {
   "cell_type": "code",
   "execution_count": 28,
   "id": "2fc4f15a-8510-44b5-a542-5c0b553645ba",
   "metadata": {},
   "outputs": [],
   "source": [
    "def prime_num():\n",
    "    num = 1\n",
    "    while num < 1000:\n",
    "        if num == 1:\n",
    "            yield num\n",
    "            num += 1\n",
    "        elif num == 2:\n",
    "            yield num\n",
    "            num += 1\n",
    "        elif num == 3:\n",
    "            yield num\n",
    "            num += 1\n",
    "        elif num == 5:\n",
    "            yield num\n",
    "            num += 1\n",
    "        elif num % 2 == 0 or num % 3 == 0 or num % 5 == 0 or num %7 ==0:\n",
    "            num += 1\n",
    "        else:\n",
    "            yield num\n",
    "            num += 1\n",
    "\n"
   ]
  },
  {
   "cell_type": "code",
   "execution_count": 29,
   "id": "729fcc0b-a607-443c-8466-9931b0063926",
   "metadata": {},
   "outputs": [],
   "source": [
    "primenumber = []\n",
    "for i in prime_num():\n",
    "    primenumber.append(i)\n",
    "            "
   ]
  },
  {
   "cell_type": "code",
   "execution_count": 30,
   "id": "fda94ccc-3b3e-4a20-9fd0-aa619e6ceac9",
   "metadata": {},
   "outputs": [
    {
     "name": "stdout",
     "output_type": "stream",
     "text": [
      "1\n",
      "2\n",
      "3\n",
      "5\n",
      "11\n",
      "13\n",
      "17\n",
      "19\n",
      "23\n",
      "29\n",
      "31\n",
      "37\n",
      "41\n",
      "43\n",
      "47\n",
      "53\n",
      "59\n",
      "61\n",
      "67\n",
      "71\n"
     ]
    }
   ],
   "source": [
    "l3 = iter(primenumber)\n",
    "for i in range(20):\n",
    "    print(next(l3))"
   ]
  },
  {
   "cell_type": "code",
   "execution_count": null,
   "id": "9857da92-24e3-4101-85be-53b01cb77db3",
   "metadata": {},
   "outputs": [],
   "source": [
    "Ans.6 -below"
   ]
  },
  {
   "cell_type": "code",
   "execution_count": 29,
   "id": "d58695d3-9ff4-4277-a1f8-3a88ac55425c",
   "metadata": {},
   "outputs": [
    {
     "name": "stdin",
     "output_type": "stream",
     "text": [
      "enter the number of element you are looking for 10\n"
     ]
    },
    {
     "name": "stdout",
     "output_type": "stream",
     "text": [
      "0\n",
      "1\n",
      "1\n",
      "2\n",
      "3\n",
      "5\n",
      "8\n",
      "13\n",
      "21\n",
      "34\n"
     ]
    }
   ],
   "source": [
    "number = int(input('enter the number of element you are looking for'))\n",
    "a , b = 0 , 1\n",
    "counter = 0\n",
    "while counter < number:\n",
    "    print(a)\n",
    "    c = a+b\n",
    "    a=b\n",
    "    b=c\n",
    "    counter = counter+1"
   ]
  },
  {
   "cell_type": "code",
   "execution_count": 34,
   "id": "99eeec61-c0a6-4c41-9019-ce2e85b12cef",
   "metadata": {},
   "outputs": [],
   "source": [
    "s = \"pwskills\" #ans -7"
   ]
  },
  {
   "cell_type": "code",
   "execution_count": 35,
   "id": "ca15fbcc-c955-46ee-a3cf-67f051674fba",
   "metadata": {},
   "outputs": [
    {
     "data": {
      "text/plain": [
       "['p', 'w', 's', 'k', 'i', 'l', 'l', 's']"
      ]
     },
     "execution_count": 35,
     "metadata": {},
     "output_type": "execute_result"
    }
   ],
   "source": [
    " [i for i in s]"
   ]
  },
  {
   "cell_type": "code",
   "execution_count": 5,
   "id": "7cac0256-5884-4e3d-b51c-011343c0deb3",
   "metadata": {},
   "outputs": [
    {
     "name": "stdin",
     "output_type": "stream",
     "text": [
      "enter number want to check 14641\n"
     ]
    },
    {
     "name": "stdout",
     "output_type": "stream",
     "text": [
      "yes it is palindrome\n"
     ]
    }
   ],
   "source": [
    "n = str(input(\"enter number want to check\"))\n",
    "\n",
    "while n[::-1] != n:\n",
    "    print(\"no  it is not palindrome \")\n",
    "    if n[::-1] != n:\n",
    "        break\n",
    "        \n",
    "else:\n",
    "    n[::-1] == n \n",
    "    print(\"yes it is palindrome\")"
   ]
  },
  {
   "cell_type": "code",
   "execution_count": 2,
   "id": "f2e1cd2d-7dc6-4a12-a923-653358faed83",
   "metadata": {},
   "outputs": [],
   "source": [
    "#Ans. 9 -\n",
    "l = range(1,100)"
   ]
  },
  {
   "cell_type": "code",
   "execution_count": 3,
   "id": "acb3d6de-0588-486a-a362-6b26802ee4e5",
   "metadata": {},
   "outputs": [
    {
     "data": {
      "text/plain": [
       "[1,\n",
       " 3,\n",
       " 5,\n",
       " 7,\n",
       " 9,\n",
       " 11,\n",
       " 13,\n",
       " 15,\n",
       " 17,\n",
       " 19,\n",
       " 21,\n",
       " 23,\n",
       " 25,\n",
       " 27,\n",
       " 29,\n",
       " 31,\n",
       " 33,\n",
       " 35,\n",
       " 37,\n",
       " 39,\n",
       " 41,\n",
       " 43,\n",
       " 45,\n",
       " 47,\n",
       " 49,\n",
       " 51,\n",
       " 53,\n",
       " 55,\n",
       " 57,\n",
       " 59,\n",
       " 61,\n",
       " 63,\n",
       " 65,\n",
       " 67,\n",
       " 69,\n",
       " 71,\n",
       " 73,\n",
       " 75,\n",
       " 77,\n",
       " 79,\n",
       " 81,\n",
       " 83,\n",
       " 85,\n",
       " 87,\n",
       " 89,\n",
       " 91,\n",
       " 93,\n",
       " 95,\n",
       " 97,\n",
       " 99]"
      ]
     },
     "execution_count": 3,
     "metadata": {},
     "output_type": "execute_result"
    }
   ],
   "source": [
    "[i for  i in l if i%2 != 0]"
   ]
  },
  {
   "cell_type": "code",
   "execution_count": null,
   "id": "3c5af97a-216f-43d8-9762-3c00eacca325",
   "metadata": {},
   "outputs": [],
   "source": []
  }
 ],
 "metadata": {
  "kernelspec": {
   "display_name": "Python 3 (ipykernel)",
   "language": "python",
   "name": "python3"
  },
  "language_info": {
   "codemirror_mode": {
    "name": "ipython",
    "version": 3
   },
   "file_extension": ".py",
   "mimetype": "text/x-python",
   "name": "python",
   "nbconvert_exporter": "python",
   "pygments_lexer": "ipython3",
   "version": "3.10.8"
  }
 },
 "nbformat": 4,
 "nbformat_minor": 5
}
