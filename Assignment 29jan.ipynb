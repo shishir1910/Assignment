{
 "cells": [
  {
   "cell_type": "code",
   "execution_count": null,
   "id": "da19de18-8d23-45f2-b84c-827ce6bf8bd7",
   "metadata": {},
   "outputs": [],
   "source": [
    "Ans.1 - Guido van Rossum develope python programing language ."
   ]
  },
  {
   "cell_type": "code",
   "execution_count": null,
   "id": "b272e1b9-e66b-49a8-bd86-a0539efd185e",
   "metadata": {},
   "outputs": [],
   "source": [
    "Ans.2 - Python support four programing  imperative, functional, procedural, and object oriented."
   ]
  },
  {
   "cell_type": "code",
   "execution_count": null,
   "id": "66cbd870-8223-4695-b3da-baeff771922d",
   "metadata": {},
   "outputs": [],
   "source": [
    "Ans.3 - Yes, python is case sensitive when dealing with identifire."
   ]
  },
  {
   "cell_type": "code",
   "execution_count": null,
   "id": "8a212bfb-b98b-444b-999c-7b0c07797281",
   "metadata": {},
   "outputs": [],
   "source": [
    "Ans.4 - .py is correct extension for python file."
   ]
  },
  {
   "cell_type": "code",
   "execution_count": null,
   "id": "4678c705-521d-4ca6-bb6d-66dfcd127d4c",
   "metadata": {},
   "outputs": [],
   "source": [
    "Ans.5 - yes python code compiled as wel as interpreted."
   ]
  },
  {
   "cell_type": "code",
   "execution_count": null,
   "id": "473cd1d9-c568-4f7f-871c-f2f8f0a3563d",
   "metadata": {},
   "outputs": [],
   "source": [
    "Ans.6 -  A module, a function body,  class definiton ."
   ]
  },
  {
   "cell_type": "code",
   "execution_count": null,
   "id": "188c9343-9828-4c9c-8e81-db1b67973d21",
   "metadata": {},
   "outputs": [],
   "source": [
    "Ans.7 - ## is use for single line comment."
   ]
  },
  {
   "cell_type": "code",
   "execution_count": 2,
   "id": "2e715fab-c967-4aaa-9cbe-092df4ea1555",
   "metadata": {},
   "outputs": [
    {
     "ename": "SyntaxError",
     "evalue": "unterminated string literal (detected at line 1) (918563001.py, line 1)",
     "output_type": "error",
     "traceback": [
      "\u001b[0;36m  Cell \u001b[0;32mIn[2], line 1\u001b[0;36m\u001b[0m\n\u001b[0;31m    Ans.8 - I did'nt get the question\u001b[0m\n\u001b[0m                 ^\u001b[0m\n\u001b[0;31mSyntaxError\u001b[0m\u001b[0;31m:\u001b[0m unterminated string literal (detected at line 1)\n"
     ]
    }
   ],
   "source": [
    "Ans.8 - I did'nt get the question"
   ]
  },
  {
   "cell_type": "code",
   "execution_count": 3,
   "id": "5bd1811e-f1ed-4c7f-b22a-12aec3bb1fc8",
   "metadata": {},
   "outputs": [
    {
     "ename": "SyntaxError",
     "evalue": "invalid syntax (2174103268.py, line 1)",
     "output_type": "error",
     "traceback": [
      "\u001b[0;36m  Cell \u001b[0;32mIn[3], line 1\u001b[0;36m\u001b[0m\n\u001b[0;31m    Ans.9 - lambada function is used for creation of runtime anonymous function.\u001b[0m\n\u001b[0m       ^\u001b[0m\n\u001b[0;31mSyntaxError\u001b[0m\u001b[0;31m:\u001b[0m invalid syntax\n"
     ]
    }
   ],
   "source": [
    "Ans.9 - lambada function is used for creation of runtime anonymous function."
   ]
  },
  {
   "cell_type": "code",
   "execution_count": null,
   "id": "a22043ca-9c12-477e-8dcc-1e713fb27bdd",
   "metadata": {},
   "outputs": [],
   "source": [
    "Ans.10 - PIP = pre ferred installer program"
   ]
  },
  {
   "cell_type": "code",
   "execution_count": null,
   "id": "fc47cde4-07fe-4106-9587-d04b02062623",
   "metadata": {},
   "outputs": [],
   "source": [
    "Ans.11 - dictnory,list,filter,slice are few example of builtin function in python."
   ]
  },
  {
   "cell_type": "code",
   "execution_count": null,
   "id": "112adcab-0a8d-4026-9ee6-0347e6e3ca7d",
   "metadata": {},
   "outputs": [],
   "source": [
    "Ans.12 - Identifier can have a maximum length of 79 characters in Python. "
   ]
  },
  {
   "cell_type": "raw",
   "id": "b8250f09-8c2f-4357-a038-b147ab470cd1",
   "metadata": {},
   "source": [
    "Ans.13 - Benefites of using python , \n",
    "1.open to use has osi lisence.\n",
    "2.Interpreted language i.e directly exicute the code.\n",
    "3.Dynamically typed.\n",
    "4.Vast liberary support.\n",
    "5.Probability to run the code is high at any platform.\n"
   ]
  },
  {
   "cell_type": "code",
   "execution_count": null,
   "id": "75efbb63-c5c0-4041-8981-bfa54da63bbb",
   "metadata": {},
   "outputs": [],
   "source": [
    "Ans.14 - Memory in Python is managed by Python private heap space. All Python objects and data structures are located in a private heap"
   ]
  },
  {
   "cell_type": "code",
   "execution_count": null,
   "id": "b29d0724-a0b9-47de-9fd6-75152b8f0f66",
   "metadata": {},
   "outputs": [],
   "source": [
    "Ans.15 - Download python windows installer from Google and install , for set path variable...\n",
    "\n",
    "Right-clicking This PC and going to Properties.\n",
    "\n",
    "Click on the Advanced system settings in the menu on the left.\n",
    "\n",
    "Click on the Environment Variables button o​n the bottom right.\n",
    "\n",
    "In the System variables section, selecting the Path variable and clicking on Edit. The next screen will show all the directories that are currently a part of the PATH variable.\n",
    "\n",
    "Clicking on New and entering Python’s install directory."
   ]
  },
  {
   "cell_type": "code",
   "execution_count": null,
   "id": "e1e8a54d-fe77-4e90-9f5c-40723082807a",
   "metadata": {},
   "outputs": [],
   "source": [
    "Ans.16 - Yes indentation require in python."
   ]
  }
 ],
 "metadata": {
  "kernelspec": {
   "display_name": "Python 3 (ipykernel)",
   "language": "python",
   "name": "python3"
  },
  "language_info": {
   "codemirror_mode": {
    "name": "ipython",
    "version": 3
   },
   "file_extension": ".py",
   "mimetype": "text/x-python",
   "name": "python",
   "nbconvert_exporter": "python",
   "pygments_lexer": "ipython3",
   "version": "3.10.8"
  }
 },
 "nbformat": 4,
 "nbformat_minor": 5
}
