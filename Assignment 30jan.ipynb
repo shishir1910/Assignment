{
 "cells": [
  {
   "cell_type": "code",
   "execution_count": null,
   "id": "08326867-18bd-4a13-8da7-fb2435405c1c",
   "metadata": {},
   "outputs": [],
   "source": [
    "Ans.1- code for accept percentage from usere and display grade."
   ]
  },
  {
   "cell_type": "code",
   "execution_count": 10,
   "id": "1be658da-a234-4fad-8510-ef3ae7d203a4",
   "metadata": {},
   "outputs": [
    {
     "name": "stdin",
     "output_type": "stream",
     "text": [
      "enter your marks 85\n"
     ]
    },
    {
     "name": "stdout",
     "output_type": "stream",
     "text": [
      "your Grade is B\n"
     ]
    }
   ],
   "source": [
    "marks = int(input(\"enter your marks\"))\n",
    "if marks > 90:\n",
    "    print (\"your Grade is A\")\n",
    "elif marks >= 80 and marks<90:\n",
    "    print(\"your Grade is B\")\n",
    "elif marks >= 60 and marks<80:\n",
    "    print(\"your Grade is C\")\n",
    "else :\n",
    "    print(\"your  Grade is D\")\n",
    "                  "
   ]
  },
  {
   "cell_type": "code",
   "execution_count": null,
   "id": "01a01f07-b51c-46f2-a9d2-a158e67ad84c",
   "metadata": {},
   "outputs": [],
   "source": [
    "Ans.2- code for accept price and display Tax % ."
   ]
  },
  {
   "cell_type": "code",
   "execution_count": 13,
   "id": "e173e99c-c0a4-44cb-850f-cad481bfeb71",
   "metadata": {},
   "outputs": [
    {
     "name": "stdin",
     "output_type": "stream",
     "text": [
      "enter the price 85000\n"
     ]
    },
    {
     "name": "stdout",
     "output_type": "stream",
     "text": [
      "10% Road Tax to be paid\n"
     ]
    }
   ],
   "source": [
    "price = int(input(\"enter the price\"))\n",
    "if price > 100000:\n",
    "    print(\"15% Road Tax to be paid\")\n",
    "elif price >=50000 and price < 100000:\n",
    "    print (\"10% Road Tax to be paid\")\n",
    "else:\n",
    "    print(\"5% Road Tax to be paid\" )      "
   ]
  },
  {
   "cell_type": "code",
   "execution_count": null,
   "id": "9b4f75e1-15ac-4b0c-9127-154fa2545f14",
   "metadata": {},
   "outputs": [],
   "source": [
    "Ans.3 -Code for display city wise monument."
   ]
  },
  {
   "cell_type": "code",
   "execution_count": 11,
   "id": "64d2ea08-bcef-44de-bab3-1f789b7f5f82",
   "metadata": {},
   "outputs": [
    {
     "name": "stdin",
     "output_type": "stream",
     "text": [
      "Enter city Jaipur\n"
     ]
    },
    {
     "name": "stdout",
     "output_type": "stream",
     "text": [
      "Jal mahal\n"
     ]
    }
   ],
   "source": [
    "city = input(\"Enter city\")\n",
    "if city == \"Delhi\":\n",
    "    print(\"Red Fort\")\n",
    "elif city == \"Agra\":\n",
    "    print(\"Taj Mahal\")\n",
    "elif city == \"Jaipur\":\n",
    "    print (\"Jal mahal\")\n",
    "    "
   ]
  },
  {
   "cell_type": "code",
   "execution_count": 1,
   "id": "f0231fe0-faa4-4bb6-90e6-c6ce009dc96a",
   "metadata": {},
   "outputs": [],
   "source": [
    "Ans.4 - "
   ]
  },
  {
   "cell_type": "code",
   "execution_count": null,
   "id": "dfe900ab-6e6d-46be-9fe2-51e6c8e3d577",
   "metadata": {},
   "outputs": [],
   "source": [
    "Ans.5-While loop is used to run a block code until a certain condition is met.\n",
    "Example  below.."
   ]
  },
  {
   "cell_type": "code",
   "execution_count": 1,
   "id": "1c1ed5ec-5282-471d-8838-a0635ae8fd7e",
   "metadata": {
    "tags": []
   },
   "outputs": [
    {
     "name": "stdout",
     "output_type": "stream",
     "text": [
      "1\n",
      "2\n",
      "3\n",
      "4\n",
      "5\n"
     ]
    }
   ],
   "source": [
    "n = 6\n",
    "i = 1\n",
    "while i < n:\n",
    "    print(i)\n",
    "    if i == 5:\n",
    "        break\n",
    "    i = i + 1   \n",
    "else:\n",
    "    print(\"this will print only while loop compelete\")"
   ]
  },
  {
   "cell_type": "code",
   "execution_count": null,
   "id": "8ef06613-f2c2-4f29-a3f6-29d5c712d663",
   "metadata": {},
   "outputs": [],
   "source": [
    "Ans.7- Reverse While loop for 10 to 1"
   ]
  },
  {
   "cell_type": "code",
   "execution_count": 1,
   "id": "497107be-ab25-4f85-ad09-9ca7925b6da9",
   "metadata": {},
   "outputs": [
    {
     "name": "stdout",
     "output_type": "stream",
     "text": [
      "10\n",
      "9\n",
      "8\n",
      "7\n",
      "6\n",
      "5\n",
      "4\n",
      "3\n",
      "2\n",
      "1\n"
     ]
    }
   ],
   "source": [
    "a = 10\n",
    "while a <= 10:\n",
    "    print(a)\n",
    "    a = a-1\n",
    "    if a == 0:\n",
    "        break"
   ]
  },
  {
   "cell_type": "code",
   "execution_count": null,
   "id": "718ff1e8-6fe3-40b1-96aa-b25df714474a",
   "metadata": {},
   "outputs": [],
   "source": []
  }
 ],
 "metadata": {
  "kernelspec": {
   "display_name": "Python 3 (ipykernel)",
   "language": "python",
   "name": "python3"
  },
  "language_info": {
   "codemirror_mode": {
    "name": "ipython",
    "version": 3
   },
   "file_extension": ".py",
   "mimetype": "text/x-python",
   "name": "python",
   "nbconvert_exporter": "python",
   "pygments_lexer": "ipython3",
   "version": "3.10.8"
  }
 },
 "nbformat": 4,
 "nbformat_minor": 5
}
