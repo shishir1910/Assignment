{
 "cells": [
  {
   "cell_type": "code",
   "execution_count": null,
   "id": "10b56ae4-adb6-46fc-85a3-05b838515915",
   "metadata": {},
   "outputs": [],
   "source": [
    "Ans.1 - \n",
    "The advantage to a for loop is we know exactly how many times the loop will execute ,\n",
    "before the loop starts.\n",
    "A \"While\" Loop is used to repeat a specific block of code ,\n",
    "an unknown number of times, until a condition is true."
   ]
  },
  {
   "cell_type": "code",
   "execution_count": null,
   "id": "3438536b-b90f-4f24-b389-31ad7511d752",
   "metadata": {},
   "outputs": [],
   "source": [
    "Example While loop -\n",
    "a=1\n",
    "while a <= 5:\n",
    "    print(a)\n",
    "    a = a+1 \n",
    "    \n",
    "Example for loop. -\n",
    "a = [1,2,3,4,5]\n",
    "for i in a:\n",
    "    print(i)\n"
   ]
  },
  {
   "cell_type": "code",
   "execution_count": null,
   "id": "3c72ff14-1895-461a-bd0f-638bddb97258",
   "metadata": {},
   "outputs": [],
   "source": [
    "Ans.2 - sum of first 10 natual no by For loop below-"
   ]
  },
  {
   "cell_type": "code",
   "execution_count": 3,
   "id": "eac8026a-455c-4577-8330-2a4aee3f7672",
   "metadata": {},
   "outputs": [
    {
     "name": "stdout",
     "output_type": "stream",
     "text": [
      "1\n",
      "2\n",
      "3\n",
      "4\n",
      "5\n",
      "6\n",
      "7\n",
      "8\n",
      "9\n",
      "10\n",
      "sum of 10 natural no:\n",
      "55\n"
     ]
    }
   ],
   "source": [
    "sum = 0\n",
    "for i in range(1,11):\n",
    "    print (i)\n",
    "    sum = sum+i\n",
    "print(\"sum of 10 natural no:\")\n",
    "print(sum)\n",
    "\n",
    "    "
   ]
  },
  {
   "cell_type": "code",
   "execution_count": 15,
   "id": "d81cada2-a45c-44d8-994c-97b46d1a8bbf",
   "metadata": {},
   "outputs": [
    {
     "name": "stdin",
     "output_type": "stream",
     "text": [
      "enter your number 10\n"
     ]
    },
    {
     "data": {
      "text/plain": [
       "('product of first 10 natural no:', 3628800)"
      ]
     },
     "execution_count": 15,
     "metadata": {},
     "output_type": "execute_result"
    }
   ],
   "source": [
    "number = int(input(\"enter your number\"))\n",
    "product = 1\n",
    "\n",
    "while number > 0:\n",
    "    product = product * number\n",
    "    number = number - 1\n",
    "product = (\"product of first 10 natural no:\" , product) \n",
    "product   "
   ]
  },
  {
   "cell_type": "code",
   "execution_count": null,
   "id": "22c5734c-6543-407b-a577-57e94b92f3b8",
   "metadata": {},
   "outputs": [],
   "source": [
    "Ans.3 - program to compute electricity bill."
   ]
  },
  {
   "cell_type": "code",
   "execution_count": 21,
   "id": "971b57ad-b509-481f-a6bc-d40952a2c544",
   "metadata": {},
   "outputs": [
    {
     "name": "stdin",
     "output_type": "stream",
     "text": [
      "enter unit cunsume 310\n"
     ]
    },
    {
     "name": "stdout",
     "output_type": "stream",
     "text": [
      "charge 2250.0\n"
     ]
    }
   ],
   "source": [
    "unit = int(input(\"enter unit cunsume\"))\n",
    "if unit <= 100:\n",
    "    print (\"charge\" , 4.5*unit)\n",
    "elif unit <= 200:\n",
    "    print(\"charge\" , 4.5*100 + 6*(unit-100))\n",
    "elif unit <=300:\n",
    "    print(\"charge\" , 4.5*100 + 6*100 + 10*(unit-200))\n",
    "else:\n",
    "    print(\"charge\" , 4.5*100 + 6*100 + 10* 100 + 20*(unit-300))"
   ]
  },
  {
   "cell_type": "code",
   "execution_count": null,
   "id": "fc54f263-6b38-4162-ad7f-3654a448d79b",
   "metadata": {},
   "outputs": [],
   "source": [
    "Ans.4 List of number whose cube is divisible by 4 or 5r."
   ]
  },
  {
   "cell_type": "code",
   "execution_count": 12,
   "id": "c4d311a9-6d69-4dda-88df-dfc638f58e0d",
   "metadata": {},
   "outputs": [],
   "source": [
    "l = list(range(1,101))"
   ]
  },
  {
   "cell_type": "code",
   "execution_count": 2,
   "id": "1ea2fb0a-b680-4c80-b200-a2bbaf678b29",
   "metadata": {},
   "outputs": [
    {
     "name": "stdout",
     "output_type": "stream",
     "text": [
      "[2, 4, 5, 6, 8, 10, 12, 14, 15, 16, 18, 20, 22, 24, 25, 26, 28, 30, 32, 34, 35, 36, 38, 40, 42, 44, 45, 46, 48, 50, 52, 54, 55, 56, 58, 60, 62, 64, 65, 66, 68, 70, 72, 74, 75, 76, 78, 80, 82, 84, 85, 86, 88, 90, 92, 94, 95, 96, 98, 100]\n"
     ]
    }
   ],
   "source": [
    "l1 = []\n",
    "for i in l: \n",
    "    cube = i**3\n",
    "    if cube%4 == 0  or cube%5==0:\n",
    "        l1.append(i)\n",
    "print(l1) \n"
   ]
  },
  {
   "cell_type": "code",
   "execution_count": 8,
   "id": "4e9f75b3-d922-46f0-b471-4ee024b4d438",
   "metadata": {},
   "outputs": [
    {
     "name": "stdout",
     "output_type": "stream",
     "text": [
      "[2, 4, 5, 6, 8, 10, 12, 14, 15, 16, 18, 20, 22, 24, 25, 26, 28, 30, 32, 34, 35, 36, 38, 40, 42, 44, 45, 46, 48, 50, 52, 54, 55, 56, 58, 60, 62, 64, 65, 66, 68, 70, 72, 74, 75, 76, 78, 80, 82, 84, 85, 86, 88, 90, 92, 94, 95, 96, 98, 100]\n"
     ]
    }
   ],
   "source": [
    "l= list(range(1,101))\n",
    "l2 = []\n",
    "i = 1\n",
    "\n",
    "while i<= 100:\n",
    "    cube = i**3\n",
    "    if cube%4==0 or cube%5==0:\n",
    "        l2.append(i)\n",
    "    i+=1    \n",
    "print(l2) "
   ]
  },
  {
   "cell_type": "code",
   "execution_count": null,
   "id": "dc484757-617e-443a-909f-7742225c4af1",
   "metadata": {},
   "outputs": [],
   "source": [
    "Ans.5"
   ]
  },
  {
   "cell_type": "code",
   "execution_count": 1,
   "id": "7da1d4ee-29fd-4852-bfd8-13f54f173b1b",
   "metadata": {},
   "outputs": [
    {
     "name": "stdout",
     "output_type": "stream",
     "text": [
      "12\n"
     ]
    }
   ],
   "source": [
    "string = \"i want to become a data scientist \"\n",
    "count = 0\n",
    "for i in string:\n",
    "    if i==\"a\" or i==\"e\"or i==\"i\"or i==\"o\"or i==\"u\":\n",
    "        count +=1\n",
    "    else :\n",
    "        count += 0\n",
    "print(count)    "
   ]
  },
  {
   "cell_type": "code",
   "execution_count": null,
   "id": "260d99e3-403e-4800-bcfd-aa0a72496c78",
   "metadata": {},
   "outputs": [],
   "source": []
  }
 ],
 "metadata": {
  "kernelspec": {
   "display_name": "Python 3 (ipykernel)",
   "language": "python",
   "name": "python3"
  },
  "language_info": {
   "codemirror_mode": {
    "name": "ipython",
    "version": 3
   },
   "file_extension": ".py",
   "mimetype": "text/x-python",
   "name": "python",
   "nbconvert_exporter": "python",
   "pygments_lexer": "ipython3",
   "version": "3.10.8"
  }
 },
 "nbformat": 4,
 "nbformat_minor": 5
}
