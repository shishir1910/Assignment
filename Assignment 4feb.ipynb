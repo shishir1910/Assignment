{
 "cells": [
  {
   "cell_type": "code",
   "execution_count": 25,
   "id": "8cf07020-4be2-486a-a5d0-6a6f87a27d56",
   "metadata": {
    "jupyter": {
     "source_hidden": true
    },
    "tags": []
   },
   "outputs": [],
   "source": [
    "l= [('Sachin Tendulkar', 34357), ('Ricky Ponting', 27483), ('Jack Kallis', 25534), ('Virat Kohli', 24936)]"
   ]
  },
  {
   "cell_type": "code",
   "execution_count": 28,
   "id": "701a6e5d-a7b1-4c04-b74e-f51609746624",
   "metadata": {},
   "outputs": [],
   "source": [
    "l.sort(key = lambda x: x[1])"
   ]
  },
  {
   "cell_type": "code",
   "execution_count": 29,
   "id": "c4cbb8a7-35a1-425a-bf32-f8bf11f1ba68",
   "metadata": {},
   "outputs": [
    {
     "name": "stdout",
     "output_type": "stream",
     "text": [
      "[('Virat Kohli', 24936), ('Jack Kallis', 25534), ('Ricky Ponting', 27483), ('Sachin Tendulkar', 34357)]\n"
     ]
    }
   ],
   "source": [
    "print(l)"
   ]
  },
  {
   "cell_type": "code",
   "execution_count": 2,
   "id": "09b7832a-2a2e-4785-9f0c-492cdbb29f87",
   "metadata": {},
   "outputs": [],
   "source": [
    "#Ans.2 -\n",
    "l=[1,2,3,4,5,6,7,8,9,10]"
   ]
  },
  {
   "cell_type": "code",
   "execution_count": 3,
   "id": "0806c0e3-69e4-4cb9-a121-7ebe2e58dd29",
   "metadata": {},
   "outputs": [
    {
     "data": {
      "text/plain": [
       "[1, 4, 9, 16, 25, 36, 49, 64, 81, 100]"
      ]
     },
     "execution_count": 3,
     "metadata": {},
     "output_type": "execute_result"
    }
   ],
   "source": [
    "list(map(lambda x : x**2,l))"
   ]
  },
  {
   "cell_type": "code",
   "execution_count": 4,
   "id": "980e1271-f70b-4aa8-a77f-034a3697d1b6",
   "metadata": {},
   "outputs": [
    {
     "data": {
      "text/plain": [
       "[1, 2, 3, 4, 5, 6, 7, 8, 9, 10]"
      ]
     },
     "execution_count": 4,
     "metadata": {},
     "output_type": "execute_result"
    }
   ],
   "source": [
    "#ans-3\n",
    "l"
   ]
  },
  {
   "cell_type": "code",
   "execution_count": 26,
   "id": "730e4e7e-6869-475e-8bfe-2aa7a5a9205b",
   "metadata": {},
   "outputs": [],
   "source": [
    "#Ans.4-\n",
    "l1 = range(1,26)"
   ]
  },
  {
   "cell_type": "code",
   "execution_count": 28,
   "id": "de2238c5-ecc2-4162-abb7-e03a845bc17a",
   "metadata": {},
   "outputs": [],
   "source": [
    "from functools import reduce"
   ]
  },
  {
   "cell_type": "code",
   "execution_count": 29,
   "id": "db35dfcd-a60f-42fc-822a-3d84e93dd26b",
   "metadata": {},
   "outputs": [
    {
     "data": {
      "text/plain": [
       "3628800"
      ]
     },
     "execution_count": 29,
     "metadata": {},
     "output_type": "execute_result"
    }
   ],
   "source": [
    "reduce(lambda x, y : x*y,l )"
   ]
  },
  {
   "cell_type": "code",
   "execution_count": 30,
   "id": "397b5047-7d56-44dc-a6f0-0d46de5a2d48",
   "metadata": {},
   "outputs": [],
   "source": [
    "#Ans.4\n",
    "l2=[2, 3, 6, 9, 27, 60, 90, 120, 55, 46]"
   ]
  },
  {
   "cell_type": "code",
   "execution_count": 34,
   "id": "d4bcb734-bdcd-4770-917b-15d9f3099746",
   "metadata": {},
   "outputs": [
    {
     "data": {
      "text/plain": [
       "[2, 3, 6, 9, 27, 60, 90, 120, 46]"
      ]
     },
     "execution_count": 34,
     "metadata": {},
     "output_type": "execute_result"
    }
   ],
   "source": [
    "list(filter(lambda x: x%2 == 0 or x%3 == 0,l2))"
   ]
  },
  {
   "cell_type": "code",
   "execution_count": 16,
   "id": "db1c7ded-d944-4b9d-abde-00a70df5f131",
   "metadata": {},
   "outputs": [],
   "source": [
    "#Ans 6\n",
    "l3 = ['python', 'php', 'aba', 'radar', 'level']"
   ]
  },
  {
   "cell_type": "code",
   "execution_count": 17,
   "id": "5b8197ca-a893-4cd6-b760-ddb6f64d40f1",
   "metadata": {},
   "outputs": [
    {
     "data": {
      "text/plain": [
       "['php', 'aba', 'radar', 'level']"
      ]
     },
     "execution_count": 17,
     "metadata": {},
     "output_type": "execute_result"
    }
   ],
   "source": [
    "list(filter(lambda x: x[::-1] == x ,l3))"
   ]
  },
  {
   "cell_type": "code",
   "execution_count": null,
   "id": "09d1fb7d-6815-4dcb-8bf2-4cf2a4916288",
   "metadata": {},
   "outputs": [],
   "source": []
  }
 ],
 "metadata": {
  "kernelspec": {
   "display_name": "Python 3 (ipykernel)",
   "language": "python",
   "name": "python3"
  },
  "language_info": {
   "codemirror_mode": {
    "name": "ipython",
    "version": 3
   },
   "file_extension": ".py",
   "mimetype": "text/x-python",
   "name": "python",
   "nbconvert_exporter": "python",
   "pygments_lexer": "ipython3",
   "version": "3.10.8"
  }
 },
 "nbformat": 4,
 "nbformat_minor": 5
}
